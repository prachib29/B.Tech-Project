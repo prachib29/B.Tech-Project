{
 "cells": [
  {
   "cell_type": "markdown",
   "metadata": {},
   "source": [
    "# Sample Sentiment Analysis"
   ]
  },
  {
   "cell_type": "code",
   "execution_count": 7,
   "metadata": {
    "pycharm": {
     "is_executing": false
    }
   },
   "outputs": [
    {
     "name": "stdout",
     "output_type": "stream",
     "text": [
      "Requirement already satisfied: nest_asyncio in /home/prachi/anaconda3/lib/python3.7/site-packages (1.4.0)\r\n"
     ]
    }
   ],
   "source": [
    "!pip install nest_asyncio\n",
    "from logging.handlers import TimedRotatingFileHandler\n",
    "import logging.config\n",
    "from psenti import SentimentAnalysis, SentimentConnection, Document\n",
    "from sklearn import metrics\n",
    "from datetime import datetime\n",
    "import socket\n",
    "import json\n",
    "import pandas as pd\n",
    "\n",
    "user_name = socket.gethostname()\n",
    "host = 'sentiment2.wikiled.com'\n",
    "port = 80\n",
    "\n",
    "import nest_asyncio\n",
    "import asyncio\n",
    "nest_asyncio.apply(loop=asyncio.get_event_loop())\n",
    "\n",
    "logger = logging.getLogger('JupyterUI')\n",
    "logFormatter = logging.Formatter('%(asctime)s - [%(thread)s] [%(threadName)s]- %(name)s - %(levelname)s - %(message)s')\n",
    "logger.setLevel(logging.DEBUG)\n",
    "\n",
    "console = logging.StreamHandler()\n",
    "console.setFormatter(logFormatter)\n",
    "console.setLevel(logging.DEBUG)\n",
    "\n",
    "logger.addHandler(console)"
   ]
  },
  {
   "cell_type": "code",
   "execution_count": 2,
   "metadata": {
    "pycharm": {
     "is_executing": false
    }
   },
   "outputs": [
    {
     "name": "stderr",
     "output_type": "stream",
     "text": [
      "2020-08-18 13:20:19,194 - [139643332269888] [MainThread]- JupyterUI - INFO - Supported domains\n",
      "2020-08-18 13:20:19,197 - [139643332269888] [MainThread]- JupyterUI - INFO - Domain: [TwitterMarket]\n",
      "2020-08-18 13:20:19,198 - [139643332269888] [MainThread]- JupyterUI - INFO - Domain: [TwitterTrump]\n",
      "2020-08-18 13:20:19,200 - [139643332269888] [MainThread]- JupyterUI - INFO - Domain: [medical]\n",
      "2020-08-18 13:20:19,202 - [139643332269888] [MainThread]- JupyterUI - INFO - Domain: [market]\n"
     ]
    },
    {
     "name": "stdout",
     "output_type": "stream",
     "text": [
      "CPU times: user 28.6 ms, sys: 541 µs, total: 29.1 ms\n",
      "Wall time: 860 ms\n"
     ]
    }
   ],
   "source": [
    "%%time\n",
    "\n",
    "connection = SentimentConnection(host=host, port=port, client_id=user_name)\n",
    "logger.info(f'Supported domains')\n",
    "for domain in connection.supported_domains:    \n",
    "    logger.info(f'Domain: [{domain}]')"
   ]
  },
  {
   "cell_type": "markdown",
   "metadata": {},
   "source": [
    "# Standard Lexicon Sentiment Analysis"
   ]
  },
  {
   "cell_type": "markdown",
   "metadata": {},
   "source": [
    "### Setup results Processing"
   ]
  },
  {
   "cell_type": "code",
   "execution_count": 3,
   "metadata": {},
   "outputs": [],
   "source": [
    "# simplified reviews\n",
    "reviews = ['I love this hello kitty decal! I like that the bow is pink instead of red. Only bad thing is that after putting it on the window theres a few air bubbles, but that most likely my fault. Shipped fast too.',\n",
    "           'I bought this for my 3 yr old daughter when I took it out the pack it had a bad oder, cute but very cheap material easy to ripe.  When I tried it on her it was to big, but of course she liked it so I kept it. I dressed her up in it and she looked cute.']\n",
    "\n",
    "# reviews with additional metadata - date, author, id\n",
    "documents = [\n",
    "        Document('I love this hello kitty decal! I like that the bow is pink instead of red. Only bad thing is that after putting it on the window theres a few air bubbles, but that most likely my fault. Shipped fast too.',\n",
    "                 '1',\n",
    "                 'Ben'),\n",
    "        Document('I bought this for my 3 yr old daughter when I took it out the pack it had a bad oder, cute but very cheap material easy to ripe.  When I tried it on her it was to big, but of course she liked it so I kept it. I dressed her up in it and she looked cute.',\n",
    "                 '2',\n",
    "                 'Ben',\n",
    "                 datetime(1995, 5, 2))\n",
    "        ]\n",
    "\n",
    "def process_result(domain, result):\n",
    "    if result['Stars'] is None:\n",
    "        logger.warning(f'{domain}: [{result[\"Id\"]}] No Sentinent')\n",
    "    else:\n",
    "        logger.info(f'{domain}: [{result[\"Id\"]}] Sentinment Stars: {result[\"Stars\"]:1.2f}')     \n",
    "        \n",
    "    for sentence in result['Sentences']:\n",
    "        for word in sentence['Words']:\n",
    "            if 'Value' in word:\n",
    "                logger.info(f\"[{word['Span']}] Sentiment: {word['Value']:1.2f}\")     \n"
   ]
  },
  {
   "cell_type": "markdown",
   "metadata": {},
   "source": [
    "### Analyse using standard sentiment lexicon"
   ]
  },
  {
   "cell_type": "code",
   "execution_count": 4,
   "metadata": {
    "scrolled": true
   },
   "outputs": [
    {
     "name": "stderr",
     "output_type": "stream",
     "text": [
      "2020-05-29 10:29:30,209 - [49832] [MainThread]- JupyterUI - INFO - market: [039fc641-ef3a-49d8-bf70-024a7cc96040] Sentinment Stars: 3.58\n",
      "2020-05-29 10:29:30,209 - [49832] [MainThread]- JupyterUI - INFO - [love] Sentiment: 3.00\n",
      "2020-05-29 10:29:30,210 - [49832] [MainThread]- JupyterUI - INFO - [like] Sentiment: 2.00\n",
      "2020-05-29 10:29:30,210 - [49832] [MainThread]- JupyterUI - INFO - [bad] Sentiment: -2.00\n",
      "2020-05-29 10:29:30,211 - [49832] [MainThread]- JupyterUI - INFO - [fault] Sentiment: -2.00\n",
      "2020-05-29 10:29:30,211 - [49832] [MainThread]- JupyterUI - INFO - [fast] Sentiment: 1.00\n",
      "2020-05-29 10:29:30,212 - [49832] [MainThread]- JupyterUI - INFO - market: [a3310b0c-ea64-48a3-8dfd-c1da91c337b2] Sentinment Stars: 3.68\n",
      "2020-05-29 10:29:30,213 - [49832] [MainThread]- JupyterUI - INFO - [bad] Sentiment: -2.00\n",
      "2020-05-29 10:29:30,213 - [49832] [MainThread]- JupyterUI - INFO - [cute] Sentiment: 2.00\n",
      "2020-05-29 10:29:30,214 - [49832] [MainThread]- JupyterUI - INFO - [cheap] Sentiment: -3.00\n",
      "2020-05-29 10:29:30,214 - [49832] [MainThread]- JupyterUI - INFO - [easy] Sentiment: 1.00\n",
      "2020-05-29 10:29:30,215 - [49832] [MainThread]- JupyterUI - INFO - [liked] Sentiment: 3.00\n",
      "2020-05-29 10:29:30,215 - [49832] [MainThread]- JupyterUI - INFO - [cute] Sentiment: 2.00\n"
     ]
    }
   ],
   "source": [
    "analysis = SentimentAnalysis(connection)\n",
    "analysis.on_message.subscribe(lambda result: process_result(domain, result))\n",
    "analysis.detect_sentiment_text(reviews)"
   ]
  },
  {
   "cell_type": "markdown",
   "metadata": {},
   "source": [
    "### Analyse using custom domain lexicons"
   ]
  },
  {
   "cell_type": "code",
   "execution_count": 4,
   "metadata": {},
   "outputs": [
    {
     "name": "stderr",
     "output_type": "stream",
     "text": [
      "2020-08-18 13:21:04,646 - [139643332269888] [MainThread]- JupyterUI - INFO - TwitterMarket: [1] Sentinment Stars: 1.00\n",
      "2020-08-18 13:21:04,648 - [139643332269888] [MainThread]- JupyterUI - INFO - [bad] Sentiment: -2.00\n",
      "2020-08-18 13:21:04,650 - [139643332269888] [MainThread]- JupyterUI - INFO - [fault] Sentiment: -2.00\n",
      "2020-08-18 13:21:04,652 - [139643332269888] [MainThread]- JupyterUI - INFO - TwitterMarket: [2] Sentinment Stars: 4.54\n",
      "2020-08-18 13:21:04,654 - [139643332269888] [MainThread]- JupyterUI - INFO - [bad] Sentiment: -2.00\n",
      "2020-08-18 13:21:04,657 - [139643332269888] [MainThread]- JupyterUI - INFO - [cheap] Sentiment: 1.81\n",
      "2020-08-18 13:21:04,659 - [139643332269888] [MainThread]- JupyterUI - INFO - [easy] Sentiment: 2.00\n",
      "2020-08-18 13:21:04,661 - [139643332269888] [MainThread]- JupyterUI - INFO - [up] Sentiment: 2.00\n",
      "2020-08-18 13:21:05,953 - [139643332269888] [MainThread]- JupyterUI - INFO - TwitterTrump: [1] Sentinment Stars: 1.44\n",
      "2020-08-18 13:21:05,955 - [139643332269888] [MainThread]- JupyterUI - INFO - [like] Sentiment: -1.26\n",
      "2020-08-18 13:21:05,957 - [139643332269888] [MainThread]- JupyterUI - INFO - [bad] Sentiment: -1.40\n",
      "2020-08-18 13:21:05,958 - [139643332269888] [MainThread]- JupyterUI - INFO - [fault] Sentiment: -1.39\n",
      "2020-08-18 13:21:05,960 - [139643332269888] [MainThread]- JupyterUI - INFO - [fast] Sentiment: 1.37\n",
      "2020-08-18 13:21:05,962 - [139643332269888] [MainThread]- JupyterUI - INFO - TwitterTrump: [2] Sentinment Stars: 1.00\n",
      "2020-08-18 13:21:05,964 - [139643332269888] [MainThread]- JupyterUI - INFO - [bad] Sentiment: -1.40\n",
      "2020-08-18 13:21:05,966 - [139643332269888] [MainThread]- JupyterUI - INFO - [cheap] Sentiment: -1.88\n",
      "2020-08-18 13:21:05,968 - [139643332269888] [MainThread]- JupyterUI - INFO - [like] Sentiment: -1.26\n",
      "2020-08-18 13:21:07,273 - [139643332269888] [MainThread]- JupyterUI - INFO - medical: [1] Sentinment Stars: 1.67\n",
      "2020-08-18 13:21:07,275 - [139643332269888] [MainThread]- JupyterUI - INFO - [love] Sentiment: -3.00\n",
      "2020-08-18 13:21:07,277 - [139643332269888] [MainThread]- JupyterUI - INFO - [bad] Sentiment: -1.99\n",
      "2020-08-18 13:21:07,282 - [139643332269888] [MainThread]- JupyterUI - INFO - [fast] Sentiment: 1.99\n",
      "2020-08-18 13:21:07,285 - [139643332269888] [MainThread]- JupyterUI - INFO - medical: [2] Sentinment Stars: 5.00\n",
      "2020-08-18 13:21:07,287 - [139643332269888] [MainThread]- JupyterUI - INFO - [bad oder] Sentiment: 3.00\n",
      "2020-08-18 13:21:07,289 - [139643332269888] [MainThread]- JupyterUI - INFO - [cheap] Sentiment: 3.00\n",
      "2020-08-18 13:21:07,291 - [139643332269888] [MainThread]- JupyterUI - INFO - [easy] Sentiment: 2.00\n",
      "2020-08-18 13:21:08,587 - [139643332269888] [MainThread]- JupyterUI - INFO - market: [2] Sentinment Stars: 3.00\n",
      "2020-08-18 13:21:08,589 - [139643332269888] [MainThread]- JupyterUI - INFO - [bad] Sentiment: -2.00\n",
      "2020-08-18 13:21:08,592 - [139643332269888] [MainThread]- JupyterUI - INFO - [easy] Sentiment: 2.00\n",
      "2020-08-18 13:21:08,595 - [139643332269888] [MainThread]- JupyterUI - INFO - market: [1] Sentinment Stars: 1.00\n",
      "2020-08-18 13:21:08,598 - [139643332269888] [MainThread]- JupyterUI - INFO - [bad] Sentiment: -2.00\n",
      "2020-08-18 13:21:08,602 - [139643332269888] [MainThread]- JupyterUI - INFO - [fault] Sentiment: -2.00\n"
     ]
    }
   ],
   "source": [
    "for domain in connection.supported_domains:\n",
    "    # analyse using custom domain lexicons\n",
    "    analysis = SentimentAnalysis(connection, domain=domain)\n",
    "    analysis.on_message.subscribe(lambda result: process_result(domain, result))\n",
    "    analysis.detect_sentiment(documents)"
   ]
  },
  {
   "cell_type": "markdown",
   "metadata": {},
   "source": [
    "### Analysis Using Custom lexicon"
   ]
  },
  {
   "cell_type": "code",
   "execution_count": 9,
   "metadata": {},
   "outputs": [
    {
     "ename": "ValueError",
     "evalue": "If using all scalar values, you must pass an index",
     "output_type": "error",
     "traceback": [
      "\u001b[0;31m---------------------------------------------------------------------------\u001b[0m",
      "\u001b[0;31mValueError\u001b[0m                                Traceback (most recent call last)",
      "\u001b[0;32m<ipython-input-9-e09fa5bcdd68>\u001b[0m in \u001b[0;36m<module>\u001b[0;34m\u001b[0m\n\u001b[1;32m      1\u001b[0m \u001b[0mlexicon\u001b[0m \u001b[0;34m=\u001b[0m \u001b[0;34m{\u001b[0m\u001b[0;34m'love'\u001b[0m\u001b[0;34m:\u001b[0m \u001b[0;34m-\u001b[0m\u001b[0;36m3\u001b[0m\u001b[0;34m,\u001b[0m \u001b[0;34m'bad oder'\u001b[0m\u001b[0;34m:\u001b[0m \u001b[0;36m3\u001b[0m\u001b[0;34m,\u001b[0m \u001b[0;34m'bad'\u001b[0m\u001b[0;34m:\u001b[0m \u001b[0;34m-\u001b[0m\u001b[0;36m1\u001b[0m\u001b[0;34m}\u001b[0m \u001b[0;31m# only this lexicon will be in use\u001b[0m\u001b[0;34m\u001b[0m\u001b[0;34m\u001b[0m\u001b[0m\n\u001b[0;32m----> 2\u001b[0;31m \u001b[0mlex\u001b[0m \u001b[0;34m=\u001b[0m \u001b[0mpd\u001b[0m\u001b[0;34m.\u001b[0m\u001b[0mread_json\u001b[0m\u001b[0;34m(\u001b[0m\u001b[0;34mr'/home/prachi/Wikiled.Sentiment.Service/lexicons/finance.json'\u001b[0m\u001b[0;34m)\u001b[0m\u001b[0;34m\u001b[0m\u001b[0;34m\u001b[0m\u001b[0m\n\u001b[0m\u001b[1;32m      3\u001b[0m \u001b[0manalysis\u001b[0m \u001b[0;34m=\u001b[0m \u001b[0mSentimentAnalysis\u001b[0m\u001b[0;34m(\u001b[0m\u001b[0mconnection\u001b[0m\u001b[0;34m,\u001b[0m \u001b[0mlexicon\u001b[0m\u001b[0;34m=\u001b[0m\u001b[0mlex\u001b[0m\u001b[0;34m)\u001b[0m\u001b[0;34m\u001b[0m\u001b[0;34m\u001b[0m\u001b[0m\n\u001b[1;32m      4\u001b[0m \u001b[0manalysis\u001b[0m\u001b[0;34m.\u001b[0m\u001b[0mon_message\u001b[0m\u001b[0;34m.\u001b[0m\u001b[0msubscribe\u001b[0m\u001b[0;34m(\u001b[0m\u001b[0;32mlambda\u001b[0m \u001b[0mresult\u001b[0m\u001b[0;34m:\u001b[0m \u001b[0mprocess_result\u001b[0m\u001b[0;34m(\u001b[0m\u001b[0mdomain\u001b[0m\u001b[0;34m,\u001b[0m \u001b[0mresult\u001b[0m\u001b[0;34m)\u001b[0m\u001b[0;34m)\u001b[0m\u001b[0;34m\u001b[0m\u001b[0;34m\u001b[0m\u001b[0m\n\u001b[1;32m      5\u001b[0m \u001b[0manalysis\u001b[0m\u001b[0;34m.\u001b[0m\u001b[0mdetect_sentiment_text\u001b[0m\u001b[0;34m(\u001b[0m\u001b[0mreviews\u001b[0m\u001b[0;34m)\u001b[0m\u001b[0;34m\u001b[0m\u001b[0;34m\u001b[0m\u001b[0m\n",
      "\u001b[0;32m~/anaconda3/lib/python3.7/site-packages/pandas/io/json/_json.py\u001b[0m in \u001b[0;36mread_json\u001b[0;34m(path_or_buf, orient, typ, dtype, convert_axes, convert_dates, keep_default_dates, numpy, precise_float, date_unit, encoding, lines, chunksize, compression)\u001b[0m\n\u001b[1;32m    590\u001b[0m         \u001b[0;32mreturn\u001b[0m \u001b[0mjson_reader\u001b[0m\u001b[0;34m\u001b[0m\u001b[0;34m\u001b[0m\u001b[0m\n\u001b[1;32m    591\u001b[0m \u001b[0;34m\u001b[0m\u001b[0m\n\u001b[0;32m--> 592\u001b[0;31m     \u001b[0mresult\u001b[0m \u001b[0;34m=\u001b[0m \u001b[0mjson_reader\u001b[0m\u001b[0;34m.\u001b[0m\u001b[0mread\u001b[0m\u001b[0;34m(\u001b[0m\u001b[0;34m)\u001b[0m\u001b[0;34m\u001b[0m\u001b[0;34m\u001b[0m\u001b[0m\n\u001b[0m\u001b[1;32m    593\u001b[0m     \u001b[0;32mif\u001b[0m \u001b[0mshould_close\u001b[0m\u001b[0;34m:\u001b[0m\u001b[0;34m\u001b[0m\u001b[0;34m\u001b[0m\u001b[0m\n\u001b[1;32m    594\u001b[0m         \u001b[0;32mtry\u001b[0m\u001b[0;34m:\u001b[0m\u001b[0;34m\u001b[0m\u001b[0;34m\u001b[0m\u001b[0m\n",
      "\u001b[0;32m~/anaconda3/lib/python3.7/site-packages/pandas/io/json/_json.py\u001b[0m in \u001b[0;36mread\u001b[0;34m(self)\u001b[0m\n\u001b[1;32m    715\u001b[0m             \u001b[0mobj\u001b[0m \u001b[0;34m=\u001b[0m \u001b[0mself\u001b[0m\u001b[0;34m.\u001b[0m\u001b[0m_get_object_parser\u001b[0m\u001b[0;34m(\u001b[0m\u001b[0mself\u001b[0m\u001b[0;34m.\u001b[0m\u001b[0m_combine_lines\u001b[0m\u001b[0;34m(\u001b[0m\u001b[0mdata\u001b[0m\u001b[0;34m.\u001b[0m\u001b[0msplit\u001b[0m\u001b[0;34m(\u001b[0m\u001b[0;34m\"\\n\"\u001b[0m\u001b[0;34m)\u001b[0m\u001b[0;34m)\u001b[0m\u001b[0;34m)\u001b[0m\u001b[0;34m\u001b[0m\u001b[0;34m\u001b[0m\u001b[0m\n\u001b[1;32m    716\u001b[0m         \u001b[0;32melse\u001b[0m\u001b[0;34m:\u001b[0m\u001b[0;34m\u001b[0m\u001b[0;34m\u001b[0m\u001b[0m\n\u001b[0;32m--> 717\u001b[0;31m             \u001b[0mobj\u001b[0m \u001b[0;34m=\u001b[0m \u001b[0mself\u001b[0m\u001b[0;34m.\u001b[0m\u001b[0m_get_object_parser\u001b[0m\u001b[0;34m(\u001b[0m\u001b[0mself\u001b[0m\u001b[0;34m.\u001b[0m\u001b[0mdata\u001b[0m\u001b[0;34m)\u001b[0m\u001b[0;34m\u001b[0m\u001b[0;34m\u001b[0m\u001b[0m\n\u001b[0m\u001b[1;32m    718\u001b[0m         \u001b[0mself\u001b[0m\u001b[0;34m.\u001b[0m\u001b[0mclose\u001b[0m\u001b[0;34m(\u001b[0m\u001b[0;34m)\u001b[0m\u001b[0;34m\u001b[0m\u001b[0;34m\u001b[0m\u001b[0m\n\u001b[1;32m    719\u001b[0m         \u001b[0;32mreturn\u001b[0m \u001b[0mobj\u001b[0m\u001b[0;34m\u001b[0m\u001b[0;34m\u001b[0m\u001b[0m\n",
      "\u001b[0;32m~/anaconda3/lib/python3.7/site-packages/pandas/io/json/_json.py\u001b[0m in \u001b[0;36m_get_object_parser\u001b[0;34m(self, json)\u001b[0m\n\u001b[1;32m    737\u001b[0m         \u001b[0mobj\u001b[0m \u001b[0;34m=\u001b[0m \u001b[0;32mNone\u001b[0m\u001b[0;34m\u001b[0m\u001b[0;34m\u001b[0m\u001b[0m\n\u001b[1;32m    738\u001b[0m         \u001b[0;32mif\u001b[0m \u001b[0mtyp\u001b[0m \u001b[0;34m==\u001b[0m \u001b[0;34m\"frame\"\u001b[0m\u001b[0;34m:\u001b[0m\u001b[0;34m\u001b[0m\u001b[0;34m\u001b[0m\u001b[0m\n\u001b[0;32m--> 739\u001b[0;31m             \u001b[0mobj\u001b[0m \u001b[0;34m=\u001b[0m \u001b[0mFrameParser\u001b[0m\u001b[0;34m(\u001b[0m\u001b[0mjson\u001b[0m\u001b[0;34m,\u001b[0m \u001b[0;34m**\u001b[0m\u001b[0mkwargs\u001b[0m\u001b[0;34m)\u001b[0m\u001b[0;34m.\u001b[0m\u001b[0mparse\u001b[0m\u001b[0;34m(\u001b[0m\u001b[0;34m)\u001b[0m\u001b[0;34m\u001b[0m\u001b[0;34m\u001b[0m\u001b[0m\n\u001b[0m\u001b[1;32m    740\u001b[0m \u001b[0;34m\u001b[0m\u001b[0m\n\u001b[1;32m    741\u001b[0m         \u001b[0;32mif\u001b[0m \u001b[0mtyp\u001b[0m \u001b[0;34m==\u001b[0m \u001b[0;34m\"series\"\u001b[0m \u001b[0;32mor\u001b[0m \u001b[0mobj\u001b[0m \u001b[0;32mis\u001b[0m \u001b[0;32mNone\u001b[0m\u001b[0;34m:\u001b[0m\u001b[0;34m\u001b[0m\u001b[0;34m\u001b[0m\u001b[0m\n",
      "\u001b[0;32m~/anaconda3/lib/python3.7/site-packages/pandas/io/json/_json.py\u001b[0m in \u001b[0;36mparse\u001b[0;34m(self)\u001b[0m\n\u001b[1;32m    847\u001b[0m \u001b[0;34m\u001b[0m\u001b[0m\n\u001b[1;32m    848\u001b[0m         \u001b[0;32melse\u001b[0m\u001b[0;34m:\u001b[0m\u001b[0;34m\u001b[0m\u001b[0;34m\u001b[0m\u001b[0m\n\u001b[0;32m--> 849\u001b[0;31m             \u001b[0mself\u001b[0m\u001b[0;34m.\u001b[0m\u001b[0m_parse_no_numpy\u001b[0m\u001b[0;34m(\u001b[0m\u001b[0;34m)\u001b[0m\u001b[0;34m\u001b[0m\u001b[0;34m\u001b[0m\u001b[0m\n\u001b[0m\u001b[1;32m    850\u001b[0m \u001b[0;34m\u001b[0m\u001b[0m\n\u001b[1;32m    851\u001b[0m         \u001b[0;32mif\u001b[0m \u001b[0mself\u001b[0m\u001b[0;34m.\u001b[0m\u001b[0mobj\u001b[0m \u001b[0;32mis\u001b[0m \u001b[0;32mNone\u001b[0m\u001b[0;34m:\u001b[0m\u001b[0;34m\u001b[0m\u001b[0;34m\u001b[0m\u001b[0m\n",
      "\u001b[0;32m~/anaconda3/lib/python3.7/site-packages/pandas/io/json/_json.py\u001b[0m in \u001b[0;36m_parse_no_numpy\u001b[0;34m(self)\u001b[0m\n\u001b[1;32m   1091\u001b[0m         \u001b[0;32mif\u001b[0m \u001b[0morient\u001b[0m \u001b[0;34m==\u001b[0m \u001b[0;34m\"columns\"\u001b[0m\u001b[0;34m:\u001b[0m\u001b[0;34m\u001b[0m\u001b[0;34m\u001b[0m\u001b[0m\n\u001b[1;32m   1092\u001b[0m             self.obj = DataFrame(\n\u001b[0;32m-> 1093\u001b[0;31m                 \u001b[0mloads\u001b[0m\u001b[0;34m(\u001b[0m\u001b[0mjson\u001b[0m\u001b[0;34m,\u001b[0m \u001b[0mprecise_float\u001b[0m\u001b[0;34m=\u001b[0m\u001b[0mself\u001b[0m\u001b[0;34m.\u001b[0m\u001b[0mprecise_float\u001b[0m\u001b[0;34m)\u001b[0m\u001b[0;34m,\u001b[0m \u001b[0mdtype\u001b[0m\u001b[0;34m=\u001b[0m\u001b[0;32mNone\u001b[0m\u001b[0;34m\u001b[0m\u001b[0;34m\u001b[0m\u001b[0m\n\u001b[0m\u001b[1;32m   1094\u001b[0m             )\n\u001b[1;32m   1095\u001b[0m         \u001b[0;32melif\u001b[0m \u001b[0morient\u001b[0m \u001b[0;34m==\u001b[0m \u001b[0;34m\"split\"\u001b[0m\u001b[0;34m:\u001b[0m\u001b[0;34m\u001b[0m\u001b[0;34m\u001b[0m\u001b[0m\n",
      "\u001b[0;32m~/anaconda3/lib/python3.7/site-packages/pandas/core/frame.py\u001b[0m in \u001b[0;36m__init__\u001b[0;34m(self, data, index, columns, dtype, copy)\u001b[0m\n\u001b[1;32m    409\u001b[0m             )\n\u001b[1;32m    410\u001b[0m         \u001b[0;32melif\u001b[0m \u001b[0misinstance\u001b[0m\u001b[0;34m(\u001b[0m\u001b[0mdata\u001b[0m\u001b[0;34m,\u001b[0m \u001b[0mdict\u001b[0m\u001b[0;34m)\u001b[0m\u001b[0;34m:\u001b[0m\u001b[0;34m\u001b[0m\u001b[0;34m\u001b[0m\u001b[0m\n\u001b[0;32m--> 411\u001b[0;31m             \u001b[0mmgr\u001b[0m \u001b[0;34m=\u001b[0m \u001b[0minit_dict\u001b[0m\u001b[0;34m(\u001b[0m\u001b[0mdata\u001b[0m\u001b[0;34m,\u001b[0m \u001b[0mindex\u001b[0m\u001b[0;34m,\u001b[0m \u001b[0mcolumns\u001b[0m\u001b[0;34m,\u001b[0m \u001b[0mdtype\u001b[0m\u001b[0;34m=\u001b[0m\u001b[0mdtype\u001b[0m\u001b[0;34m)\u001b[0m\u001b[0;34m\u001b[0m\u001b[0;34m\u001b[0m\u001b[0m\n\u001b[0m\u001b[1;32m    412\u001b[0m         \u001b[0;32melif\u001b[0m \u001b[0misinstance\u001b[0m\u001b[0;34m(\u001b[0m\u001b[0mdata\u001b[0m\u001b[0;34m,\u001b[0m \u001b[0mma\u001b[0m\u001b[0;34m.\u001b[0m\u001b[0mMaskedArray\u001b[0m\u001b[0;34m)\u001b[0m\u001b[0;34m:\u001b[0m\u001b[0;34m\u001b[0m\u001b[0;34m\u001b[0m\u001b[0m\n\u001b[1;32m    413\u001b[0m             \u001b[0;32mimport\u001b[0m \u001b[0mnumpy\u001b[0m\u001b[0;34m.\u001b[0m\u001b[0mma\u001b[0m\u001b[0;34m.\u001b[0m\u001b[0mmrecords\u001b[0m \u001b[0;32mas\u001b[0m \u001b[0mmrecords\u001b[0m\u001b[0;34m\u001b[0m\u001b[0;34m\u001b[0m\u001b[0m\n",
      "\u001b[0;32m~/anaconda3/lib/python3.7/site-packages/pandas/core/internals/construction.py\u001b[0m in \u001b[0;36minit_dict\u001b[0;34m(data, index, columns, dtype)\u001b[0m\n\u001b[1;32m    255\u001b[0m             \u001b[0marr\u001b[0m \u001b[0;32mif\u001b[0m \u001b[0;32mnot\u001b[0m \u001b[0mis_datetime64tz_dtype\u001b[0m\u001b[0;34m(\u001b[0m\u001b[0marr\u001b[0m\u001b[0;34m)\u001b[0m \u001b[0;32melse\u001b[0m \u001b[0marr\u001b[0m\u001b[0;34m.\u001b[0m\u001b[0mcopy\u001b[0m\u001b[0;34m(\u001b[0m\u001b[0;34m)\u001b[0m \u001b[0;32mfor\u001b[0m \u001b[0marr\u001b[0m \u001b[0;32min\u001b[0m \u001b[0marrays\u001b[0m\u001b[0;34m\u001b[0m\u001b[0;34m\u001b[0m\u001b[0m\n\u001b[1;32m    256\u001b[0m         ]\n\u001b[0;32m--> 257\u001b[0;31m     \u001b[0;32mreturn\u001b[0m \u001b[0marrays_to_mgr\u001b[0m\u001b[0;34m(\u001b[0m\u001b[0marrays\u001b[0m\u001b[0;34m,\u001b[0m \u001b[0mdata_names\u001b[0m\u001b[0;34m,\u001b[0m \u001b[0mindex\u001b[0m\u001b[0;34m,\u001b[0m \u001b[0mcolumns\u001b[0m\u001b[0;34m,\u001b[0m \u001b[0mdtype\u001b[0m\u001b[0;34m=\u001b[0m\u001b[0mdtype\u001b[0m\u001b[0;34m)\u001b[0m\u001b[0;34m\u001b[0m\u001b[0;34m\u001b[0m\u001b[0m\n\u001b[0m\u001b[1;32m    258\u001b[0m \u001b[0;34m\u001b[0m\u001b[0m\n\u001b[1;32m    259\u001b[0m \u001b[0;34m\u001b[0m\u001b[0m\n",
      "\u001b[0;32m~/anaconda3/lib/python3.7/site-packages/pandas/core/internals/construction.py\u001b[0m in \u001b[0;36marrays_to_mgr\u001b[0;34m(arrays, arr_names, index, columns, dtype)\u001b[0m\n\u001b[1;32m     75\u001b[0m     \u001b[0;31m# figure out the index, if necessary\u001b[0m\u001b[0;34m\u001b[0m\u001b[0;34m\u001b[0m\u001b[0;34m\u001b[0m\u001b[0m\n\u001b[1;32m     76\u001b[0m     \u001b[0;32mif\u001b[0m \u001b[0mindex\u001b[0m \u001b[0;32mis\u001b[0m \u001b[0;32mNone\u001b[0m\u001b[0;34m:\u001b[0m\u001b[0;34m\u001b[0m\u001b[0;34m\u001b[0m\u001b[0m\n\u001b[0;32m---> 77\u001b[0;31m         \u001b[0mindex\u001b[0m \u001b[0;34m=\u001b[0m \u001b[0mextract_index\u001b[0m\u001b[0;34m(\u001b[0m\u001b[0marrays\u001b[0m\u001b[0;34m)\u001b[0m\u001b[0;34m\u001b[0m\u001b[0;34m\u001b[0m\u001b[0m\n\u001b[0m\u001b[1;32m     78\u001b[0m     \u001b[0;32melse\u001b[0m\u001b[0;34m:\u001b[0m\u001b[0;34m\u001b[0m\u001b[0;34m\u001b[0m\u001b[0m\n\u001b[1;32m     79\u001b[0m         \u001b[0mindex\u001b[0m \u001b[0;34m=\u001b[0m \u001b[0mensure_index\u001b[0m\u001b[0;34m(\u001b[0m\u001b[0mindex\u001b[0m\u001b[0;34m)\u001b[0m\u001b[0;34m\u001b[0m\u001b[0;34m\u001b[0m\u001b[0m\n",
      "\u001b[0;32m~/anaconda3/lib/python3.7/site-packages/pandas/core/internals/construction.py\u001b[0m in \u001b[0;36mextract_index\u001b[0;34m(data)\u001b[0m\n\u001b[1;32m    356\u001b[0m \u001b[0;34m\u001b[0m\u001b[0m\n\u001b[1;32m    357\u001b[0m         \u001b[0;32mif\u001b[0m \u001b[0;32mnot\u001b[0m \u001b[0mindexes\u001b[0m \u001b[0;32mand\u001b[0m \u001b[0;32mnot\u001b[0m \u001b[0mraw_lengths\u001b[0m\u001b[0;34m:\u001b[0m\u001b[0;34m\u001b[0m\u001b[0;34m\u001b[0m\u001b[0m\n\u001b[0;32m--> 358\u001b[0;31m             \u001b[0;32mraise\u001b[0m \u001b[0mValueError\u001b[0m\u001b[0;34m(\u001b[0m\u001b[0;34m\"If using all scalar values, you must pass an index\"\u001b[0m\u001b[0;34m)\u001b[0m\u001b[0;34m\u001b[0m\u001b[0;34m\u001b[0m\u001b[0m\n\u001b[0m\u001b[1;32m    359\u001b[0m \u001b[0;34m\u001b[0m\u001b[0m\n\u001b[1;32m    360\u001b[0m         \u001b[0;32mif\u001b[0m \u001b[0mhave_series\u001b[0m\u001b[0;34m:\u001b[0m\u001b[0;34m\u001b[0m\u001b[0;34m\u001b[0m\u001b[0m\n",
      "\u001b[0;31mValueError\u001b[0m: If using all scalar values, you must pass an index"
     ]
    }
   ],
   "source": [
    "lexicon = {'love': -3, 'bad oder': 3, 'bad': -1} # only this lexicon will be in use\n",
    "lex = pd.read_json(r'/home/prachi/Wikiled.Sentiment.Service/lexicons/finance.json')\n",
    "analysis = SentimentAnalysis(connection, lexicon=lex)\n",
    "analysis.on_message.subscribe(lambda result: process_result(domain, result))\n",
    "analysis.detect_sentiment_text(reviews)"
   ]
  },
  {
   "cell_type": "markdown",
   "metadata": {},
   "source": [
    "### Modification of existing lexicon"
   ]
  },
  {
   "cell_type": "code",
   "execution_count": 6,
   "metadata": {},
   "outputs": [
    {
     "name": "stderr",
     "output_type": "stream",
     "text": [
      "2020-08-18 13:21:29,474 - [139643332269888] [MainThread]- JupyterUI - INFO - Medical: [1] Sentinment Stars: 1.67\n",
      "2020-08-18 13:21:29,476 - [139643332269888] [MainThread]- JupyterUI - INFO - [love] Sentiment: -3.00\n",
      "2020-08-18 13:21:29,478 - [139643332269888] [MainThread]- JupyterUI - INFO - [bad] Sentiment: -1.99\n",
      "2020-08-18 13:21:29,480 - [139643332269888] [MainThread]- JupyterUI - INFO - [fast] Sentiment: 1.99\n",
      "2020-08-18 13:21:29,482 - [139643332269888] [MainThread]- JupyterUI - INFO - Medical: [2] Sentinment Stars: 5.00\n",
      "2020-08-18 13:21:29,483 - [139643332269888] [MainThread]- JupyterUI - INFO - [bad oder] Sentiment: 3.00\n",
      "2020-08-18 13:21:29,485 - [139643332269888] [MainThread]- JupyterUI - INFO - [cheap] Sentiment: 3.00\n",
      "2020-08-18 13:21:29,487 - [139643332269888] [MainThread]- JupyterUI - INFO - [easy] Sentiment: 2.00\n",
      "2020-08-18 13:21:30,726 - [139643332269888] [MainThread]- JupyterUI - INFO - Adjusted Medical: [1] Sentinment Stars: 1.67\n",
      "2020-08-18 13:21:30,727 - [139643332269888] [MainThread]- JupyterUI - INFO - [love] Sentiment: -3.00\n",
      "2020-08-18 13:21:30,728 - [139643332269888] [MainThread]- JupyterUI - INFO - [bad] Sentiment: -1.99\n",
      "2020-08-18 13:21:30,730 - [139643332269888] [MainThread]- JupyterUI - INFO - [fast] Sentiment: 1.99\n",
      "2020-08-18 13:21:30,731 - [139643332269888] [MainThread]- JupyterUI - INFO - Adjusted Medical: [2] Sentinment Stars: 5.00\n",
      "2020-08-18 13:21:30,734 - [139643332269888] [MainThread]- JupyterUI - INFO - [bad oder] Sentiment: 3.00\n",
      "2020-08-18 13:21:30,736 - [139643332269888] [MainThread]- JupyterUI - INFO - [cheap] Sentiment: 3.00\n",
      "2020-08-18 13:21:30,737 - [139643332269888] [MainThread]- JupyterUI - INFO - [easy] Sentiment: 2.00\n"
     ]
    }
   ],
   "source": [
    "lexicon = {'love': -3, 'bad oder': 3} # lexicon modifaction\n",
    "\n",
    "# without modification\n",
    "analysis = SentimentAnalysis(connection, domain='medical')\n",
    "analysis.on_message.subscribe(lambda result: process_result('Medical', result))\n",
    "analysis.detect_sentiment(documents)\n",
    "\n",
    "# with modification\n",
    "analysis = SentimentAnalysis(connection, domain='medical', lexicon=lexicon, adjust_lexicon=True)\n",
    "analysis.on_message.subscribe(lambda result: process_result('Adjusted Medical', result))\n",
    "analysis.detect_sentiment(documents)"
   ]
  },
  {
   "cell_type": "code",
   "execution_count": null,
   "metadata": {},
   "outputs": [],
   "source": []
  }
 ],
 "metadata": {
  "kernelspec": {
   "display_name": "Python 3",
   "language": "python",
   "name": "python3"
  },
  "language_info": {
   "codemirror_mode": {
    "name": "ipython",
    "version": 3
   },
   "file_extension": ".py",
   "mimetype": "text/x-python",
   "name": "python",
   "nbconvert_exporter": "python",
   "pygments_lexer": "ipython3",
   "version": "3.7.4"
  }
 },
 "nbformat": 4,
 "nbformat_minor": 2
}
