{
 "cells": [
  {
   "cell_type": "code",
   "execution_count": null,
   "metadata": {},
   "outputs": [],
   "source": [
    "# !pip install nest_asyncio\n",
    "from logging.handlers import TimedRotatingFileHandler\n",
    "import logging.config\n",
    "from psenti import SentimentAnalysis, SentimentConnection, Document\n",
    "from sklearn import metrics\n",
    "from datetime import datetime\n",
    "import socket\n",
    "import json\n",
    "import pandas as pd\n",
    "\n",
    "user_name = socket.gethostname()\n",
    "host = 'sentiment2.wikiled.com'\n",
    "port = 80\n",
    "\n",
    "import nest_asyncio\n",
    "import asyncio\n",
    "nest_asyncio.apply(loop=asyncio.get_event_loop())\n",
    "\n",
    "logger = logging.getLogger('JupyterUI')\n",
    "logFormatter = logging.Formatter('%(asctime)s - [%(thread)s] [%(threadName)s]- %(name)s - %(levelname)s - %(message)s')\n",
    "logger.setLevel(logging.DEBUG)\n",
    "\n",
    "console = logging.StreamHandler()\n",
    "console.setFormatter(logFormatter)\n",
    "console.setLevel(logging.DEBUG)\n",
    "\n",
    "logger.addHandler(console)\n",
    "\n",
    "connection = SentimentConnection(host=host, port=port, client_id=user_name)"
   ]
  },
  {
   "cell_type": "code",
   "execution_count": null,
   "metadata": {},
   "outputs": [],
   "source": [
    "reviews = ['Huge profit reported.', 'Huge loss reported.', 'This stock is performing poor.', 'I am not going to invest in this stock.', \n",
    "           'I will invest in this stock.', 'putting apple record-breaking quarter into context: $aapl URL_URL via @forbestech']\n",
    "# reviews = ['I love this hello kitty decal! I like that the bow is pink instead of red. Only bad thing is that after putting it on the window theres a few air bubbles, but that most likely my fault. Shipped fast too.', \n",
    "#            'This is the worst scenario case.']\n",
    "SentimentStars = []\n",
    "TotalSentimentWords = []\n",
    "TotalWords = []\n",
    "Emot= []\n",
    "for review in reviews:\n",
    "    TotalWords.append(len(list(review.split(' '))))\n",
    "def process_result(result):    \n",
    "    SentimentStars.append(result[\"Stars\"])\n",
    "    count = 0;\n",
    "    myMap = dict({'Anger' : 0, 'Anticipation' : 0, 'Disgust' : 0, 'Fear' : 0, 'Joy' : 0, 'Sadness' : 0, 'Surprise' : 0, 'Trust': 0})\n",
    "    for sentence in result['Sentences']:\n",
    "        for word in sentence['Words']:\n",
    "            if 'Emotions' in word and word['Emotions'] != ['None']:\n",
    "                count = count + 1;\n",
    "                for emotion in word['Emotions']:\n",
    "                    myMap[emotion] = myMap[emotion] + 1;\n",
    "    Emot.append(myMap)\n",
    "                \n",
    "    TotalSentimentWords.append(count)"
   ]
  },
  {
   "cell_type": "code",
   "execution_count": null,
   "metadata": {},
   "outputs": [],
   "source": [
    "for review in reviews:\n",
    "    l = []\n",
    "    l.append(review)\n",
    "    analysis = SentimentAnalysis(connection, extract_emotions=True)\n",
    "    analysis.on_message.subscribe(lambda result: process_result(result))\n",
    "    analysis.detect_sentiment_text(l)"
   ]
  },
  {
   "cell_type": "code",
   "execution_count": null,
   "metadata": {},
   "outputs": [],
   "source": [
    "df = pd.DataFrame({'SentimentStars' : SentimentStars, 'TotalSentimentWords' : TotalSentimentWords, 'TotalWords' : TotalWords})\n",
    "df1 = pd.DataFrame(Emot)\n",
    "df = pd.concat([df, df1], sort=False, axis =1)\n",
    "df"
   ]
  },
  {
   "cell_type": "code",
   "execution_count": null,
   "metadata": {},
   "outputs": [],
   "source": [
    "df1 = pd.read_csv (r'/home/prachi/PycharmProjects/pythonProject/tesla_comments.csv')"
   ]
  },
  {
   "cell_type": "code",
   "execution_count": null,
   "metadata": {},
   "outputs": [],
   "source": [
    "SentimentStars = []\n",
    "TotalSentimentWords = []\n",
    "TotalWords = []\n",
    "Emot= []\n",
    "for i in range(500):\n",
    "    TotalWords.append(len(list(df1['Comments'][i].split(' '))))\n",
    "def process_result(result):    \n",
    "    SentimentStars.append(result[\"Stars\"])\n",
    "    count = 0;\n",
    "    myMap = dict({'Anger' : 0, 'Anticipation' : 0, 'Disgust' : 0, 'Fear' : 0, 'Joy' : 0, 'Sadness' : 0, 'Surprise' : 0, 'Trust': 0})\n",
    "    for sentence in result['Sentences']:\n",
    "        for word in sentence['Words']:\n",
    "            if 'Emotions' in word and word['Emotions'] != ['None']:\n",
    "                count = count + 1;\n",
    "                for emotion in word['Emotions']:\n",
    "                    myMap[emotion] = myMap[emotion] + 1;\n",
    "    Emot.append(myMap)\n",
    "                \n",
    "    TotalSentimentWords.append(count)"
   ]
  },
  {
   "cell_type": "code",
   "execution_count": null,
   "metadata": {},
   "outputs": [],
   "source": [
    "for i in range(500):\n",
    "    l = []\n",
    "    l.append(df1['Comments'][i])\n",
    "    analysis = SentimentAnalysis(connection, extract_emotions=True)\n",
    "    analysis.on_message.subscribe(lambda result: process_result(result))\n",
    "    analysis.detect_sentiment_text(l)"
   ]
  },
  {
   "cell_type": "code",
   "execution_count": null,
   "metadata": {},
   "outputs": [],
   "source": [
    "df2 = pd.DataFrame({'SentimentStars' : SentimentStars, 'TotalSentimentWords' : TotalSentimentWords, 'TotalWords' : TotalWords})\n",
    "df3 = pd.DataFrame(Emot)\n",
    "df2 = pd.concat([df1, df2, df3], sort=False, axis =1)"
   ]
  },
  {
   "cell_type": "code",
   "execution_count": null,
   "metadata": {},
   "outputs": [],
   "source": [
    "df2.to_csv(r'/home/prachi/PycharmProjects/pythonProject/tesla_new_results.csv', index = False)"
   ]
  },
  {
   "cell_type": "code",
   "execution_count": null,
   "metadata": {},
   "outputs": [],
   "source": [
    "from selenium import webdriver\n",
    "from selenium.webdriver.common import keys\n",
    "from selenium.webdriver.common.by import By\n",
    "from selenium.webdriver.support.ui import WebDriverWait\n",
    "from selenium.webdriver.support import expected_conditions as EC\n",
    "import time"
   ]
  },
  {
   "cell_type": "code",
   "execution_count": null,
   "metadata": {},
   "outputs": [],
   "source": [
    "comment_list = []\n",
    "browser = webdriver.Chrome('/home/prachi/Downloads/chromedriver_linux64/chromedriver')\n",
    "ticker_name = input()\n",
    "browser.maximize_window()\n",
    "browser.implicitly_wait(10)\n",
    "\n",
    "for i in range(5):\n",
    "    comment = browser.find_element_by_xpath(xpath='/html/body/div[3]/div/div/div[3]/div/div/div[1]/div[2]/div/div/div[2]/div[3]/div/div[{}]/div/div/article/div/div[2]/div[2]/div/div/div'.format(i+1)).text\n",
    "    comment_list.append(comment)\n",
    "    browser.execute_script(\"window.scrollTo(0,document.body.scrollHeight)\")\n",
    "\n",
    "import pandas as pd\n",
    "df = pd.DataFrame(comment_list, columns=['Comments'])\n",
    "\n",
    "tesla_data = df.to_csv('tesla_comments.csv', index=False)"
   ]
  },
  {
   "cell_type": "code",
   "execution_count": null,
   "metadata": {},
   "outputs": [],
   "source": []
  },
  {
   "cell_type": "code",
   "execution_count": null,
   "metadata": {},
   "outputs": [],
   "source": []
  }
 ],
 "metadata": {
  "kernelspec": {
   "display_name": "Python 3",
   "language": "python",
   "name": "python3"
  },
  "language_info": {
   "codemirror_mode": {
    "name": "ipython",
    "version": 3
   },
   "file_extension": ".py",
   "mimetype": "text/x-python",
   "name": "python",
   "nbconvert_exporter": "python",
   "pygments_lexer": "ipython3",
   "version": "3.7.4"
  }
 },
 "nbformat": 4,
 "nbformat_minor": 2
}
