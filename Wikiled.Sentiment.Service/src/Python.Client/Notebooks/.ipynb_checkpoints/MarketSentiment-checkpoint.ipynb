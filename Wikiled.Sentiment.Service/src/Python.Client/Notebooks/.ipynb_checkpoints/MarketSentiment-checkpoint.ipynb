{
 "cells": [
  {
   "cell_type": "code",
   "execution_count": 1,
   "metadata": {},
   "outputs": [
    {
     "name": "stdout",
     "output_type": "stream",
     "text": [
      "Requirement already satisfied: nest_asyncio in /home/prachi/anaconda3/lib/python3.7/site-packages (1.4.0)\r\n"
     ]
    }
   ],
   "source": [
    "!pip install nest_asyncio\n",
    "from logging.handlers import TimedRotatingFileHandler\n",
    "import logging.config\n",
    "from psenti import SentimentAnalysis, SentimentConnection, Document\n",
    "from sklearn import metrics\n",
    "from datetime import datetime\n",
    "import socket\n",
    "import json\n",
    "\n",
    "user_name = socket.gethostname()\n",
    "host = 'sentiment2.wikiled.com'\n",
    "port = 80\n",
    "\n",
    "import nest_asyncio\n",
    "import asyncio\n",
    "nest_asyncio.apply(loop=asyncio.get_event_loop())\n",
    "\n",
    "logger = logging.getLogger('JupyterUI')\n",
    "logFormatter = logging.Formatter('%(asctime)s - [%(thread)s] [%(threadName)s]- %(name)s - %(levelname)s - %(message)s')\n",
    "logger.setLevel(logging.DEBUG)\n",
    "\n",
    "console = logging.StreamHandler()\n",
    "console.setFormatter(logFormatter)\n",
    "console.setLevel(logging.DEBUG)\n",
    "\n",
    "logger.addHandler(console)\n",
    "\n",
    "connection = SentimentConnection(host=host, port=port, client_id=user_name)"
   ]
  },
  {
   "cell_type": "code",
   "execution_count": 2,
   "metadata": {},
   "outputs": [],
   "source": [
    "documents = ['I will invest in this stock.',\n",
    "             'Huge profit reported.']\n",
    "\n",
    "def process_result(result):\n",
    "    if result['Stars'] is None:\n",
    "        logger.warning(f'{domain}: [{result[\"Id\"]}] No Sentinent')\n",
    "        return\n",
    "    \n",
    "    logger.info(f'[{result[\"Text\"]}] Sentinment Stars: {result[\"Stars\"]:1.2f}')             \n",
    "    for sentence in result['Sentences']:\n",
    "        for word in sentence['Words']:\n",
    "            if 'Value' in word:\n",
    "                logger.info(f\"[{word['Span']}] Sentiment: {word['Value']:1.2f}\")    "
   ]
  },
  {
   "cell_type": "code",
   "execution_count": 3,
   "metadata": {},
   "outputs": [
    {
     "name": "stderr",
     "output_type": "stream",
     "text": [
      "2020-08-18 19:10:52,787 - [140016442304320] [MainThread]- JupyterUI - INFO - [Huge profit reported.] Sentinment Stars: 5.00\n",
      "2020-08-18 19:10:52,790 - [140016442304320] [MainThread]- JupyterUI - INFO - [profit] Sentiment: 2.00\n",
      "Event handling\n",
      "Traceback (most recent call last):\n",
      "  File \"/home/prachi/anaconda3/lib/python3.7/site-packages/psenti-1.0.0-py3.7.egg/psenti/helpers/utilities.py\", line 40, in __call__\n",
      "    f(*args, **kwargs)\n",
      "  File \"<ipython-input-3-5e7f845b45cd>\", line 2, in <lambda>\n",
      "    analysis.on_message.subscribe(lambda result: process_result(result))\n",
      "  File \"<ipython-input-2-20d971ba33ad>\", line 6, in process_result\n",
      "    logger.warning(f'{domain}: [{result[\"Id\"]}] No Sentinent')\n",
      "NameError: name 'domain' is not defined\n",
      "Processing failed\n",
      "Traceback (most recent call last):\n",
      "  File \"/home/prachi/anaconda3/lib/python3.7/site-packages/psenti-1.0.0-py3.7.egg/psenti/service/sentiment.py\", line 139, in detect_sentiment_async\n",
      "    self.on_message(document)\n",
      "  File \"/home/prachi/anaconda3/lib/python3.7/site-packages/psenti-1.0.0-py3.7.egg/psenti/helpers/utilities.py\", line 40, in __call__\n",
      "    f(*args, **kwargs)\n",
      "  File \"<ipython-input-3-5e7f845b45cd>\", line 2, in <lambda>\n",
      "    analysis.on_message.subscribe(lambda result: process_result(result))\n",
      "  File \"<ipython-input-2-20d971ba33ad>\", line 6, in process_result\n",
      "    logger.warning(f'{domain}: [{result[\"Id\"]}] No Sentinent')\n",
      "NameError: name 'domain' is not defined\n"
     ]
    }
   ],
   "source": [
    "analysis = SentimentAnalysis(connection, domain='market')\n",
    "analysis.on_message.subscribe(lambda result: process_result(result))\n",
    "analysis.detect_sentiment_text(documents)"
   ]
  },
  {
   "cell_type": "code",
   "execution_count": null,
   "metadata": {},
   "outputs": [],
   "source": []
  }
 ],
 "metadata": {
  "kernelspec": {
   "display_name": "Python 3",
   "language": "python",
   "name": "python3"
  },
  "language_info": {
   "codemirror_mode": {
    "name": "ipython",
    "version": 3
   },
   "file_extension": ".py",
   "mimetype": "text/x-python",
   "name": "python",
   "nbconvert_exporter": "python",
   "pygments_lexer": "ipython3",
   "version": "3.7.4"
  }
 },
 "nbformat": 4,
 "nbformat_minor": 2
}
