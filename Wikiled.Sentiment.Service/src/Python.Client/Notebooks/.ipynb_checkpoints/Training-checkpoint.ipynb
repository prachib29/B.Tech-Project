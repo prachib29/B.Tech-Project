{
 "cells": [
  {
   "cell_type": "markdown",
   "metadata": {},
   "source": [
    "# Sample Sentiment Analysis"
   ]
  },
  {
   "cell_type": "code",
   "execution_count": 1,
   "metadata": {
    "pycharm": {
     "is_executing": false
    }
   },
   "outputs": [
    {
     "name": "stdout",
     "output_type": "stream",
     "text": [
      "Requirement already satisfied: nest_asyncio in /home/prachi/anaconda3/lib/python3.7/site-packages (1.4.0)\r\n"
     ]
    }
   ],
   "source": [
    "!pip install nest_asyncio\n",
    "from logging.handlers import TimedRotatingFileHandler\n",
    "import logging.config\n",
    "from psenti import SentimentAnalysis, SentimentConnection, Document\n",
    "from sklearn import metrics\n",
    "import socket\n",
    "\n",
    "user_name = socket.gethostname()\n",
    "host = 'sentiment2.wikiled.com'\n",
    "port = 80\n",
    "\n",
    "import nest_asyncio\n",
    "import asyncio\n",
    "nest_asyncio.apply(loop=asyncio.get_event_loop())\n",
    "\n",
    "logger = logging.getLogger('JupyterUI')\n",
    "logFormatter = logging.Formatter('%(asctime)s - [%(thread)s] [%(threadName)s]- %(name)s - %(levelname)s - %(message)s')\n",
    "logger.setLevel(logging.DEBUG)\n",
    "\n",
    "console = logging.StreamHandler()\n",
    "console.setFormatter(logFormatter)\n",
    "console.setLevel(logging.INFO)\n",
    "\n",
    "logger.addHandler(console)"
   ]
  },
  {
   "cell_type": "code",
   "execution_count": 2,
   "metadata": {
    "pycharm": {
     "is_executing": false
    }
   },
   "outputs": [
    {
     "name": "stderr",
     "output_type": "stream",
     "text": [
      "2020-08-18 13:22:17,287 - [139992959448896] [MainThread]- JupyterUI - INFO - Supported domains\n",
      "2020-08-18 13:22:17,289 - [139992959448896] [MainThread]- JupyterUI - INFO - Domain: [TwitterMarket]\n",
      "2020-08-18 13:22:17,291 - [139992959448896] [MainThread]- JupyterUI - INFO - Domain: [TwitterTrump]\n",
      "2020-08-18 13:22:17,293 - [139992959448896] [MainThread]- JupyterUI - INFO - Domain: [medical]\n",
      "2020-08-18 13:22:17,296 - [139992959448896] [MainThread]- JupyterUI - INFO - Domain: [market]\n"
     ]
    },
    {
     "name": "stdout",
     "output_type": "stream",
     "text": [
      "CPU times: user 29.2 ms, sys: 8.62 ms, total: 37.8 ms\n",
      "Wall time: 823 ms\n"
     ]
    }
   ],
   "source": [
    "%%time\n",
    "\n",
    "connection = SentimentConnection(host=host, port=port, client_id=user_name)\n",
    "logger.info(f'Supported domains')\n",
    "for domain in connection.supported_domains:    \n",
    "    logger.info(f'Domain: [{domain}]')"
   ]
  },
  {
   "cell_type": "markdown",
   "metadata": {},
   "source": [
    "# Training Model"
   ]
  },
  {
   "cell_type": "markdown",
   "metadata": {},
   "source": [
    "## Define Test routine"
   ]
  },
  {
   "cell_type": "code",
   "execution_count": 3,
   "metadata": {
    "pycharm": {
     "is_executing": false
    }
   },
   "outputs": [],
   "source": [
    "def test_sentiment(test_doc, model=None):\n",
    "    logger.info(f'Using {len(test_doc)} test documents...')\n",
    "    \n",
    "    analysis = SentimentAnalysis(connection, model=model, clean=True)\n",
    "    \n",
    "    results = []\n",
    "    detected_document_class = {}\n",
    "    analysis.on_message.subscribe(lambda result: results.append(result))\n",
    "    analysis.detect_sentiment(test_doc)\n",
    "\n",
    "    for result in results:\n",
    "        stars = result['Stars']    \n",
    "        id  = result['Id']\n",
    "        detected_document_class[id] = stars is not None and stars > 3\n",
    "\n",
    "    logger.info(f'Total processed documents: {len(detected_document_class)}')\n",
    "\n",
    "    test_y = [document.IsPositive for document in test_doc]\n",
    "    result_y = [detected_document_class[document.Id] for document in test_doc]\n",
    "    vacc = metrics.accuracy_score(test_y, result_y)\n",
    "    logger.info(f'Accuracy: {vacc:1.2f}')"
   ]
  },
  {
   "cell_type": "markdown",
   "metadata": {},
   "source": [
    "## Load Amazon reviews"
   ]
  },
  {
   "cell_type": "code",
   "execution_count": 4,
   "metadata": {},
   "outputs": [
    {
     "name": "stdout",
     "output_type": "stream",
     "text": [
      "CPU times: user 23.3 ms, sys: 16.3 ms, total: 39.6 ms\n",
      "Wall time: 210 ms\n"
     ]
    }
   ],
   "source": [
    "%%time\n",
    "from sklearn.model_selection import train_test_split\n",
    "\n",
    "id = 0 \n",
    "all_amazon_documents = []\n",
    "\n",
    "with open('../data/amazon/positive.txt', \"r\", encoding='utf8') as reader:\n",
    "    for line in reader:\n",
    "        doc = Document(line, id)\n",
    "        doc.IsPositive = True\n",
    "        all_amazon_documents.append(doc)        \n",
    "        id += 1\n",
    "    \n",
    "with open('../data/amazon/negative.txt', \"r\", encoding='utf8') as reader:\n",
    "    for line in reader:\n",
    "        doc = Document(line, id)    \n",
    "        doc.IsPositive = False\n",
    "        all_amazon_documents.append(doc)\n",
    "        id += 1\n",
    "    \n",
    "train_doc, test_doc = train_test_split(all_amazon_documents, test_size=0.3)"
   ]
  },
  {
   "cell_type": "markdown",
   "metadata": {},
   "source": [
    "## Testing with default model"
   ]
  },
  {
   "cell_type": "code",
   "execution_count": 5,
   "metadata": {},
   "outputs": [
    {
     "name": "stderr",
     "output_type": "stream",
     "text": [
      "2020-08-18 13:22:24,627 - [139992959448896] [MainThread]- JupyterUI - INFO - Using 600 test documents...\n",
      "Processing failed\n",
      "Traceback (most recent call last):\n",
      "  File \"/home/prachi/anaconda3/lib/python3.7/asyncio/tasks.py\", line 251, in __step\n",
      "    result = coro.throw(exc)\n",
      "  File \"/home/prachi/anaconda3/lib/python3.7/site-packages/websockets-8.1-py3.7-linux-x86_64.egg/websockets/protocol.py\", line 827, in transfer_data\n",
      "    message = await self.read_message()\n",
      "  File \"/home/prachi/anaconda3/lib/python3.7/site-packages/websockets-8.1-py3.7-linux-x86_64.egg/websockets/protocol.py\", line 895, in read_message\n",
      "    frame = await self.read_data_frame(max_size=self.max_size)\n",
      "  File \"/home/prachi/anaconda3/lib/python3.7/site-packages/websockets-8.1-py3.7-linux-x86_64.egg/websockets/protocol.py\", line 971, in read_data_frame\n",
      "    frame = await self.read_frame(max_size)\n",
      "  File \"/home/prachi/anaconda3/lib/python3.7/site-packages/websockets-8.1-py3.7-linux-x86_64.egg/websockets/protocol.py\", line 1051, in read_frame\n",
      "    extensions=self.extensions,\n",
      "  File \"/home/prachi/anaconda3/lib/python3.7/site-packages/websockets-8.1-py3.7-linux-x86_64.egg/websockets/framing.py\", line 133, in read\n",
      "    data = await reader(length)\n",
      "  File \"/home/prachi/anaconda3/lib/python3.7/asyncio/streams.py\", line 679, in readexactly\n",
      "    await self._wait_for_data('readexactly')\n",
      "  File \"/home/prachi/anaconda3/lib/python3.7/asyncio/streams.py\", line 473, in _wait_for_data\n",
      "    await self._waiter\n",
      "  File \"/home/prachi/anaconda3/lib/python3.7/asyncio/futures.py\", line 260, in __await__\n",
      "    yield self  # This tells Task to wait for completion.\n",
      "  File \"/home/prachi/anaconda3/lib/python3.7/asyncio/tasks.py\", line 318, in __wakeup\n",
      "    future.result()\n",
      "  File \"/home/prachi/anaconda3/lib/python3.7/asyncio/futures.py\", line 173, in result\n",
      "    raise CancelledError\n",
      "concurrent.futures._base.CancelledError\n",
      "\n",
      "The above exception was the direct cause of the following exception:\n",
      "\n",
      "Traceback (most recent call last):\n",
      "  File \"/home/prachi/anaconda3/lib/python3.7/site-packages/psenti-1.0.0-py3.7.egg/psenti/service/sentiment.py\", line 124, in detect_sentiment_async\n",
      "    async for message in websocket:\n",
      "  File \"/home/prachi/anaconda3/lib/python3.7/site-packages/websockets-8.1-py3.7-linux-x86_64.egg/websockets/protocol.py\", line 439, in __aiter__\n",
      "    yield await self.recv()\n",
      "  File \"/home/prachi/anaconda3/lib/python3.7/site-packages/websockets-8.1-py3.7-linux-x86_64.egg/websockets/protocol.py\", line 509, in recv\n",
      "    await self.ensure_open()\n",
      "  File \"/home/prachi/anaconda3/lib/python3.7/site-packages/websockets-8.1-py3.7-linux-x86_64.egg/websockets/protocol.py\", line 812, in ensure_open\n",
      "    raise self.connection_closed_exc()\n",
      "websockets.exceptions.ConnectionClosedError: code = 1006 (connection closed abnormally [internal]), no reason\n",
      "2020-08-18 13:23:25,143 - [139992959448896] [MainThread]- JupyterUI - INFO - Total processed documents: 170\n"
     ]
    },
    {
     "ename": "KeyError",
     "evalue": "'1561'",
     "output_type": "error",
     "traceback": [
      "\u001b[0;31m---------------------------------------------------------------------------\u001b[0m",
      "\u001b[0;31mKeyError\u001b[0m                                  Traceback (most recent call last)",
      "\u001b[0;32m<ipython-input-5-b18a105989d5>\u001b[0m in \u001b[0;36m<module>\u001b[0;34m\u001b[0m\n\u001b[0;32m----> 1\u001b[0;31m \u001b[0mtest_sentiment\u001b[0m\u001b[0;34m(\u001b[0m\u001b[0mtest_doc\u001b[0m\u001b[0;34m)\u001b[0m\u001b[0;34m\u001b[0m\u001b[0;34m\u001b[0m\u001b[0m\n\u001b[0m",
      "\u001b[0;32m<ipython-input-3-78b85c00f9bb>\u001b[0m in \u001b[0;36mtest_sentiment\u001b[0;34m(test_doc, model)\u001b[0m\n\u001b[1;32m     17\u001b[0m \u001b[0;34m\u001b[0m\u001b[0m\n\u001b[1;32m     18\u001b[0m     \u001b[0mtest_y\u001b[0m \u001b[0;34m=\u001b[0m \u001b[0;34m[\u001b[0m\u001b[0mdocument\u001b[0m\u001b[0;34m.\u001b[0m\u001b[0mIsPositive\u001b[0m \u001b[0;32mfor\u001b[0m \u001b[0mdocument\u001b[0m \u001b[0;32min\u001b[0m \u001b[0mtest_doc\u001b[0m\u001b[0;34m]\u001b[0m\u001b[0;34m\u001b[0m\u001b[0;34m\u001b[0m\u001b[0m\n\u001b[0;32m---> 19\u001b[0;31m     \u001b[0mresult_y\u001b[0m \u001b[0;34m=\u001b[0m \u001b[0;34m[\u001b[0m\u001b[0mdetected_document_class\u001b[0m\u001b[0;34m[\u001b[0m\u001b[0mdocument\u001b[0m\u001b[0;34m.\u001b[0m\u001b[0mId\u001b[0m\u001b[0;34m]\u001b[0m \u001b[0;32mfor\u001b[0m \u001b[0mdocument\u001b[0m \u001b[0;32min\u001b[0m \u001b[0mtest_doc\u001b[0m\u001b[0;34m]\u001b[0m\u001b[0;34m\u001b[0m\u001b[0;34m\u001b[0m\u001b[0m\n\u001b[0m\u001b[1;32m     20\u001b[0m     \u001b[0mvacc\u001b[0m \u001b[0;34m=\u001b[0m \u001b[0mmetrics\u001b[0m\u001b[0;34m.\u001b[0m\u001b[0maccuracy_score\u001b[0m\u001b[0;34m(\u001b[0m\u001b[0mtest_y\u001b[0m\u001b[0;34m,\u001b[0m \u001b[0mresult_y\u001b[0m\u001b[0;34m)\u001b[0m\u001b[0;34m\u001b[0m\u001b[0;34m\u001b[0m\u001b[0m\n\u001b[1;32m     21\u001b[0m     \u001b[0mlogger\u001b[0m\u001b[0;34m.\u001b[0m\u001b[0minfo\u001b[0m\u001b[0;34m(\u001b[0m\u001b[0;34mf'Accuracy: {vacc:1.2f}'\u001b[0m\u001b[0;34m)\u001b[0m\u001b[0;34m\u001b[0m\u001b[0;34m\u001b[0m\u001b[0m\n",
      "\u001b[0;32m<ipython-input-3-78b85c00f9bb>\u001b[0m in \u001b[0;36m<listcomp>\u001b[0;34m(.0)\u001b[0m\n\u001b[1;32m     17\u001b[0m \u001b[0;34m\u001b[0m\u001b[0m\n\u001b[1;32m     18\u001b[0m     \u001b[0mtest_y\u001b[0m \u001b[0;34m=\u001b[0m \u001b[0;34m[\u001b[0m\u001b[0mdocument\u001b[0m\u001b[0;34m.\u001b[0m\u001b[0mIsPositive\u001b[0m \u001b[0;32mfor\u001b[0m \u001b[0mdocument\u001b[0m \u001b[0;32min\u001b[0m \u001b[0mtest_doc\u001b[0m\u001b[0;34m]\u001b[0m\u001b[0;34m\u001b[0m\u001b[0;34m\u001b[0m\u001b[0m\n\u001b[0;32m---> 19\u001b[0;31m     \u001b[0mresult_y\u001b[0m \u001b[0;34m=\u001b[0m \u001b[0;34m[\u001b[0m\u001b[0mdetected_document_class\u001b[0m\u001b[0;34m[\u001b[0m\u001b[0mdocument\u001b[0m\u001b[0;34m.\u001b[0m\u001b[0mId\u001b[0m\u001b[0;34m]\u001b[0m \u001b[0;32mfor\u001b[0m \u001b[0mdocument\u001b[0m \u001b[0;32min\u001b[0m \u001b[0mtest_doc\u001b[0m\u001b[0;34m]\u001b[0m\u001b[0;34m\u001b[0m\u001b[0;34m\u001b[0m\u001b[0m\n\u001b[0m\u001b[1;32m     20\u001b[0m     \u001b[0mvacc\u001b[0m \u001b[0;34m=\u001b[0m \u001b[0mmetrics\u001b[0m\u001b[0;34m.\u001b[0m\u001b[0maccuracy_score\u001b[0m\u001b[0;34m(\u001b[0m\u001b[0mtest_y\u001b[0m\u001b[0;34m,\u001b[0m \u001b[0mresult_y\u001b[0m\u001b[0;34m)\u001b[0m\u001b[0;34m\u001b[0m\u001b[0;34m\u001b[0m\u001b[0m\n\u001b[1;32m     21\u001b[0m     \u001b[0mlogger\u001b[0m\u001b[0;34m.\u001b[0m\u001b[0minfo\u001b[0m\u001b[0;34m(\u001b[0m\u001b[0;34mf'Accuracy: {vacc:1.2f}'\u001b[0m\u001b[0;34m)\u001b[0m\u001b[0;34m\u001b[0m\u001b[0;34m\u001b[0m\u001b[0m\n",
      "\u001b[0;31mKeyError\u001b[0m: '1561'"
     ]
    }
   ],
   "source": [
    "test_sentiment(test_doc)"
   ]
  },
  {
   "cell_type": "markdown",
   "metadata": {},
   "source": [
    "## Training Sentiment Analysis model"
   ]
  },
  {
   "cell_type": "code",
   "execution_count": null,
   "metadata": {
    "pycharm": {
     "is_executing": false
    }
   },
   "outputs": [],
   "source": [
    "%%time\n",
    "\n",
    "connection.delete_documents('Amazon2')\n",
    "connection.save_documents('Amazon2', train_doc)\n",
    "analysis = SentimentAnalysis(connection, clean=True)\n",
    "analysis.train('Amazon2')"
   ]
  },
  {
   "cell_type": "markdown",
   "metadata": {},
   "source": [
    "## Testing with trained model"
   ]
  },
  {
   "cell_type": "code",
   "execution_count": null,
   "metadata": {
    "pycharm": {
     "is_executing": false
    }
   },
   "outputs": [],
   "source": [
    "%%time\n",
    "test_sentiment(test_doc, 'Amazon2')"
   ]
  },
  {
   "cell_type": "code",
   "execution_count": null,
   "metadata": {},
   "outputs": [],
   "source": []
  }
 ],
 "metadata": {
  "kernelspec": {
   "display_name": "Python 3",
   "language": "python",
   "name": "python3"
  },
  "language_info": {
   "codemirror_mode": {
    "name": "ipython",
    "version": 3
   },
   "file_extension": ".py",
   "mimetype": "text/x-python",
   "name": "python",
   "nbconvert_exporter": "python",
   "pygments_lexer": "ipython3",
   "version": "3.7.4"
  }
 },
 "nbformat": 4,
 "nbformat_minor": 2
}
