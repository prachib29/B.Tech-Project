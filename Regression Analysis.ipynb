{
 "cells": [
  {
   "cell_type": "code",
   "execution_count": null,
   "metadata": {},
   "outputs": [],
   "source": [
    "cd ../Desktop/"
   ]
  },
  {
   "cell_type": "code",
   "execution_count": null,
   "metadata": {},
   "outputs": [],
   "source": [
    "import pandas as pd\n",
    "import numpy as np\n",
    "from sklearn.model_selection import train_test_split\n",
    "from sklearn.linear_model import LinearRegression\n",
    "from sklearn import metrics\n",
    "from sklearn.svm import SVR\n",
    "from sklearn.ensemble import RandomForestRegressor"
   ]
  },
  {
   "cell_type": "code",
   "execution_count": null,
   "metadata": {},
   "outputs": [],
   "source": [
    "def regression_analysis(df_x, df_y):\n",
    "    df_x = df_x.drop([\"Unnamed: 0\"],axis=1)\n",
    "    df_y = df_y.drop([\"Unnamed: 0\"],axis=1)\n",
    "\n",
    "    set_15 = df_x.iloc[:,0:15]\n",
    "    set_16 = df_x.iloc[:,0:16]\n",
    "    set_24 = df_x\n",
    "\n",
    "    train_set_15, test_set_15 = train_test_split(set_15, test_size=0.2, random_state=42)\n",
    "    train_set_16, test_set_16 = train_test_split(set_16, test_size=0.2, random_state=42)\n",
    "    train_set_24, test_set_24 = train_test_split(set_24, test_size=0.2, random_state=42)\n",
    "\n",
    "    train_y, test_y = train_test_split(df_y, test_size=0.2, random_state=42)\n",
    "\n",
    "    lin_reg_15 = LinearRegression()\n",
    "    lin_reg_15.fit(train_set_15, train_y)\n",
    "\n",
    "    lin_reg_16 = LinearRegression()\n",
    "    lin_reg_16.fit(train_set_16, train_y)\n",
    "\n",
    "    lin_reg_24 = LinearRegression()\n",
    "    lin_reg_24.fit(train_set_24, train_y)\n",
    "\n",
    "    lin_reg_15_pred = lin_reg_15.predict(test_set_15)\n",
    "    lin_reg_16_pred = lin_reg_16.predict(test_set_16)\n",
    "    lin_reg_24_pred = lin_reg_24.predict(test_set_24)\n",
    "\n",
    "    LinReg = [ metrics.mean_squared_error(test_y, lin_reg_15_pred), metrics.mean_squared_error(test_y, lin_reg_16_pred), metrics.mean_squared_error(test_y, lin_reg_24_pred)]\n",
    "\n",
    "    svr_15 = SVR( kernel = 'rbf')\n",
    "    svr_15.fit(train_set_15, train_y)\n",
    "\n",
    "    svr_16 = SVR( kernel = 'rbf')\n",
    "    svr_16.fit(train_set_16, train_y)\n",
    "\n",
    "    svr_24 = SVR( kernel = 'rbf')\n",
    "    svr_24.fit(train_set_24, train_y)\n",
    "\n",
    "    svr_15_pred = svr_15.predict(test_set_15)\n",
    "    svr_16_pred = svr_16.predict(test_set_16)\n",
    "    svr_24_pred = svr_24.predict(test_set_24)\n",
    "\n",
    "    svr = [metrics.mean_squared_error(test_y, svr_15_pred), metrics.mean_squared_error(test_y, svr_16_pred), metrics.mean_squared_error(test_y, svr_24_pred)]\n",
    "\n",
    "    rfr_15 = RandomForestRegressor()\n",
    "    rfr_15.fit(train_set_15, train_y)\n",
    "\n",
    "    rfr_16 = RandomForestRegressor()\n",
    "    rfr_16.fit(train_set_16, train_y)\n",
    "\n",
    "    rfr_24 = RandomForestRegressor()\n",
    "    rfr_24.fit(train_set_24, train_y)\n",
    "\n",
    "    rfr_15_pred = rfr_15.predict(test_set_15)\n",
    "    rfr_16_pred = rfr_16.predict(test_set_16)\n",
    "    rfr_24_pred = rfr_24.predict(test_set_24)\n",
    "\n",
    "    rfr = [metrics.mean_squared_error(test_y, svr_15_pred), metrics.mean_squared_error(test_y, rfr_16_pred), metrics.mean_squared_error(test_y, rfr_24_pred)]\n",
    "    \n",
    "    array = np.array([LinReg, svr, rfr])\n",
    "    index_values = ['LinearRegression', 'SupportVectorRegression', 'RandomForestRegression']    \n",
    "    column_values = ['I', 'II', 'III'] \n",
    "\n",
    "    return pd.DataFrame(data = array,  index = index_values,  columns = column_values)"
   ]
  },
  {
   "cell_type": "code",
   "execution_count": null,
   "metadata": {},
   "outputs": [],
   "source": [
    "df_x = pd.read_csv(\"x_data_JPM.csv\")\n",
    "df_y = pd.read_csv(\"y_data_JPM.csv\")\n",
    "JPM_results = regression_analysis(df_x, df_y)\n",
    "\n",
    "df_x = pd.read_csv(\"x_data_AAPL.csv\")\n",
    "df_y = pd.read_csv(\"y_data_AAPL.csv\")\n",
    "AAPL_results = regression_analysis(df_x, df_y)\n",
    "\n",
    "df_x = pd.read_csv(\"x_data_HPQ.csv\")\n",
    "df_y = pd.read_csv(\"y_data_HPQ.csv\")\n",
    "HPQ_results = regression_analysis(df_x, df_y)\n",
    "\n",
    "df_x = pd.read_csv(\"x_data_GOOG.csv\")\n",
    "df_y = pd.read_csv(\"y_data_GOOG.csv\")\n",
    "GOOG_results = regression_analysis(df_x, df_y)"
   ]
  }
 ],
 "metadata": {
  "kernelspec": {
   "display_name": "Python 3",
   "language": "python",
   "name": "python3"
  },
  "language_info": {
   "codemirror_mode": {
    "name": "ipython",
    "version": 3
   },
   "file_extension": ".py",
   "mimetype": "text/x-python",
   "name": "python",
   "nbconvert_exporter": "python",
   "pygments_lexer": "ipython3",
   "version": "3.7.4"
  }
 },
 "nbformat": 4,
 "nbformat_minor": 2
}
